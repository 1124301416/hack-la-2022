{
 "cells": [
  {
   "cell_type": "code",
   "execution_count": 1,
   "metadata": {},
   "outputs": [],
   "source": [
    "import pandas as pd\n",
    "import matplotlib.pyplot as plt\n",
    "from sklearn.model_selection import GridSearchCV\n",
    "from sklearn.dummy import DummyClassifier, DummyRegressor\n",
    "import numpy as np\n",
    "# Preprocessing and pipeline\n",
    "from sklearn.impute import SimpleImputer\n",
    "import mglearn\n",
    "# train test split and cross validation\n",
    "from sklearn.model_selection import cross_val_score, cross_validate, train_test_split\n",
    "from sklearn.pipeline import Pipeline, make_pipeline\n",
    "from sklearn.preprocessing import (\n",
    "    StandardScaler,\n",
    ")\n",
    "import altair as alt\n",
    "from sklearn.linear_model import LinearRegression, Ridge\n",
    "from sklearn.svm import SVR\n",
    "from sklearn.tree import DecisionTreeRegressor"
   ]
  },
  {
   "cell_type": "code",
   "execution_count": 2,
   "metadata": {},
   "outputs": [],
   "source": [
    "grade_df = pd.read_csv('data/additional/gradebook.csv')\n",
    "discussion_df = pd.read_csv('data/additional/discussions.csv')\n",
    "discussion_topic_df = pd.read_csv('data/additional/discussion_topics.csv')\n",
    "\n",
    "discussion_df['id'] = discussion_df['discussion_topic_id']\n",
    "discussion_combined_df = discussion_df.merge(discussion_topic_df)\n",
    "\n",
    "grade_df['actor_id'] = grade_df['Student']\n",
    "df = grade_df.merge(discussion_df)\n",
    "\n",
    "enrol_df = pd.read_csv('data/additional/enrollments.csv')\n",
    "enrol_df['Student'] = enrol_df['user_id']\n",
    "df = df.merge(enrol_df)\n",
    "\n",
    "num_cols = ['Assignment 1 (c81f04547a95da2a7b88054ef491b7c4)',\n",
    "       'Assignment 2 (a4dc11e7e79361fc5886a9078aac66b8)',\n",
    "       'Assignment 3 (option A) (811d93ea379b5cdd5a19f1b5dbab88cd)',\n",
    "       'Assignment 3 (option B) (df8d1f1ff3f48fdc24a278b40c5f45cc)',\n",
    "       'Assignment 3 (option C) (bb971b36c1578cede00150acda89aa99)',\n",
    "       'Assignment 3 (option D) (f1ad954cd2cddda6e17f6fc225d1aa3e)',\n",
    "       'Participation grade: Formative (not included in final grade) (5965e0b0c712861d0efdd9be54572114)',\n",
    "       'Assignment 1 Current Score', 'Assignment 2 Current Score',\n",
    "       'Assignment 3 Current Score',\n",
    "       'Participation & engagement Current Score', 'Current Score',]\n",
    "\n",
    "for col in num_cols:\n",
    "    df[col] = df[col].apply(float)\n"
   ]
  },
  {
   "cell_type": "code",
   "execution_count": 3,
   "metadata": {},
   "outputs": [],
   "source": [
    "df_mean = df.groupby('Student').aggregate('mean')\n",
    "df_sum = df.groupby('Student').aggregate('sum')\n",
    "df_count = df.groupby('Student').aggregate('count')\n",
    "\n",
    "canvas_df = pd.concat([df_mean[['Participation & engagement Current Score','Current Score',\n",
    "                                'count_of_likes','total_activity_time']], \n",
    "                       df_sum[['discussion_topic_message_length','post_message_length']],\n",
    "                      df_count[['last_activity_at']]],axis =1)\n",
    "\n",
    "canvas_df['answer_count'] =  canvas_df['last_activity_at']\n",
    "canvas_df = canvas_df.drop(['last_activity_at'],axis = 1)"
   ]
  },
  {
   "cell_type": "code",
   "execution_count": 4,
   "metadata": {},
   "outputs": [
    {
     "data": {
      "text/html": [
       "<div>\n",
       "<style scoped>\n",
       "    .dataframe tbody tr th:only-of-type {\n",
       "        vertical-align: middle;\n",
       "    }\n",
       "\n",
       "    .dataframe tbody tr th {\n",
       "        vertical-align: top;\n",
       "    }\n",
       "\n",
       "    .dataframe thead th {\n",
       "        text-align: right;\n",
       "    }\n",
       "</style>\n",
       "<table border=\"1\" class=\"dataframe\">\n",
       "  <thead>\n",
       "    <tr style=\"text-align: right;\">\n",
       "      <th></th>\n",
       "      <th>Participation &amp; engagement Current Score</th>\n",
       "      <th>Current Score</th>\n",
       "      <th>count_of_likes</th>\n",
       "      <th>total_activity_time</th>\n",
       "      <th>discussion_topic_message_length</th>\n",
       "      <th>post_message_length</th>\n",
       "      <th>answer_count</th>\n",
       "    </tr>\n",
       "    <tr>\n",
       "      <th>Student</th>\n",
       "      <th></th>\n",
       "      <th></th>\n",
       "      <th></th>\n",
       "      <th></th>\n",
       "      <th></th>\n",
       "      <th></th>\n",
       "      <th></th>\n",
       "    </tr>\n",
       "  </thead>\n",
       "  <tbody>\n",
       "    <tr>\n",
       "      <th>LEARNER_1</th>\n",
       "      <td>90.0</td>\n",
       "      <td>80.9</td>\n",
       "      <td>0.214286</td>\n",
       "      <td>985351.0</td>\n",
       "      <td>12207</td>\n",
       "      <td>33617</td>\n",
       "      <td>14</td>\n",
       "    </tr>\n",
       "    <tr>\n",
       "      <th>LEARNER_10</th>\n",
       "      <td>85.0</td>\n",
       "      <td>78.4</td>\n",
       "      <td>0.298246</td>\n",
       "      <td>421763.0</td>\n",
       "      <td>48509</td>\n",
       "      <td>60378</td>\n",
       "      <td>57</td>\n",
       "    </tr>\n",
       "    <tr>\n",
       "      <th>LEARNER_11</th>\n",
       "      <td>90.0</td>\n",
       "      <td>84.3</td>\n",
       "      <td>0.156250</td>\n",
       "      <td>285214.0</td>\n",
       "      <td>31952</td>\n",
       "      <td>40861</td>\n",
       "      <td>32</td>\n",
       "    </tr>\n",
       "    <tr>\n",
       "      <th>LEARNER_12</th>\n",
       "      <td>80.0</td>\n",
       "      <td>81.2</td>\n",
       "      <td>0.200000</td>\n",
       "      <td>176035.0</td>\n",
       "      <td>19072</td>\n",
       "      <td>22838</td>\n",
       "      <td>20</td>\n",
       "    </tr>\n",
       "    <tr>\n",
       "      <th>LEARNER_13</th>\n",
       "      <td>80.0</td>\n",
       "      <td>85.5</td>\n",
       "      <td>0.219512</td>\n",
       "      <td>774430.0</td>\n",
       "      <td>36887</td>\n",
       "      <td>44122</td>\n",
       "      <td>41</td>\n",
       "    </tr>\n",
       "  </tbody>\n",
       "</table>\n",
       "</div>"
      ],
      "text/plain": [
       "            Participation & engagement Current Score  Current Score  \\\n",
       "Student                                                               \n",
       "LEARNER_1                                       90.0           80.9   \n",
       "LEARNER_10                                      85.0           78.4   \n",
       "LEARNER_11                                      90.0           84.3   \n",
       "LEARNER_12                                      80.0           81.2   \n",
       "LEARNER_13                                      80.0           85.5   \n",
       "\n",
       "            count_of_likes  total_activity_time  \\\n",
       "Student                                           \n",
       "LEARNER_1         0.214286             985351.0   \n",
       "LEARNER_10        0.298246             421763.0   \n",
       "LEARNER_11        0.156250             285214.0   \n",
       "LEARNER_12        0.200000             176035.0   \n",
       "LEARNER_13        0.219512             774430.0   \n",
       "\n",
       "            discussion_topic_message_length  post_message_length  answer_count  \n",
       "Student                                                                         \n",
       "LEARNER_1                             12207                33617            14  \n",
       "LEARNER_10                            48509                60378            57  \n",
       "LEARNER_11                            31952                40861            32  \n",
       "LEARNER_12                            19072                22838            20  \n",
       "LEARNER_13                            36887                44122            41  "
      ]
     },
     "execution_count": 4,
     "metadata": {},
     "output_type": "execute_result"
    }
   ],
   "source": [
    "canvas_df.head()"
   ]
  },
  {
   "cell_type": "code",
   "execution_count": 5,
   "metadata": {},
   "outputs": [
    {
     "data": {
      "text/html": [
       "<div>\n",
       "<style scoped>\n",
       "    .dataframe tbody tr th:only-of-type {\n",
       "        vertical-align: middle;\n",
       "    }\n",
       "\n",
       "    .dataframe tbody tr th {\n",
       "        vertical-align: top;\n",
       "    }\n",
       "\n",
       "    .dataframe thead th {\n",
       "        text-align: right;\n",
       "    }\n",
       "</style>\n",
       "<table border=\"1\" class=\"dataframe\">\n",
       "  <thead>\n",
       "    <tr style=\"text-align: right;\">\n",
       "      <th></th>\n",
       "      <th>Participation &amp; engagement Current Score</th>\n",
       "      <th>Current Score</th>\n",
       "      <th>count_of_likes</th>\n",
       "      <th>total_activity_time</th>\n",
       "      <th>discussion_topic_message_length</th>\n",
       "      <th>post_message_length</th>\n",
       "      <th>answer_count</th>\n",
       "    </tr>\n",
       "    <tr>\n",
       "      <th>Student</th>\n",
       "      <th></th>\n",
       "      <th></th>\n",
       "      <th></th>\n",
       "      <th></th>\n",
       "      <th></th>\n",
       "      <th></th>\n",
       "      <th></th>\n",
       "    </tr>\n",
       "  </thead>\n",
       "  <tbody>\n",
       "    <tr>\n",
       "      <th>LEARNER_16</th>\n",
       "      <td>100.0</td>\n",
       "      <td>82.0</td>\n",
       "      <td>0.196078</td>\n",
       "      <td>586198.0</td>\n",
       "      <td>45110</td>\n",
       "      <td>87921</td>\n",
       "      <td>51</td>\n",
       "    </tr>\n",
       "    <tr>\n",
       "      <th>LEARNER_33</th>\n",
       "      <td>40.0</td>\n",
       "      <td>72.1</td>\n",
       "      <td>0.000000</td>\n",
       "      <td>547149.0</td>\n",
       "      <td>9085</td>\n",
       "      <td>7047</td>\n",
       "      <td>9</td>\n",
       "    </tr>\n",
       "    <tr>\n",
       "      <th>LEARNER_20</th>\n",
       "      <td>55.0</td>\n",
       "      <td>69.7</td>\n",
       "      <td>0.045455</td>\n",
       "      <td>201541.0</td>\n",
       "      <td>21776</td>\n",
       "      <td>20719</td>\n",
       "      <td>22</td>\n",
       "    </tr>\n",
       "    <tr>\n",
       "      <th>LEARNER_2</th>\n",
       "      <td>60.0</td>\n",
       "      <td>84.6</td>\n",
       "      <td>0.290323</td>\n",
       "      <td>152876.0</td>\n",
       "      <td>22443</td>\n",
       "      <td>32704</td>\n",
       "      <td>31</td>\n",
       "    </tr>\n",
       "    <tr>\n",
       "      <th>LEARNER_25</th>\n",
       "      <td>90.0</td>\n",
       "      <td>87.3</td>\n",
       "      <td>0.205128</td>\n",
       "      <td>110669.0</td>\n",
       "      <td>34233</td>\n",
       "      <td>25090</td>\n",
       "      <td>39</td>\n",
       "    </tr>\n",
       "  </tbody>\n",
       "</table>\n",
       "</div>"
      ],
      "text/plain": [
       "            Participation & engagement Current Score  Current Score  \\\n",
       "Student                                                               \n",
       "LEARNER_16                                     100.0           82.0   \n",
       "LEARNER_33                                      40.0           72.1   \n",
       "LEARNER_20                                      55.0           69.7   \n",
       "LEARNER_2                                       60.0           84.6   \n",
       "LEARNER_25                                      90.0           87.3   \n",
       "\n",
       "            count_of_likes  total_activity_time  \\\n",
       "Student                                           \n",
       "LEARNER_16        0.196078             586198.0   \n",
       "LEARNER_33        0.000000             547149.0   \n",
       "LEARNER_20        0.045455             201541.0   \n",
       "LEARNER_2         0.290323             152876.0   \n",
       "LEARNER_25        0.205128             110669.0   \n",
       "\n",
       "            discussion_topic_message_length  post_message_length  answer_count  \n",
       "Student                                                                         \n",
       "LEARNER_16                            45110                87921            51  \n",
       "LEARNER_33                             9085                 7047             9  \n",
       "LEARNER_20                            21776                20719            22  \n",
       "LEARNER_2                             22443                32704            31  \n",
       "LEARNER_25                            34233                25090            39  "
      ]
     },
     "execution_count": 5,
     "metadata": {},
     "output_type": "execute_result"
    }
   ],
   "source": [
    "train_df, test_df = train_test_split(canvas_df, test_size=0.2, random_state=123)\n",
    "\n",
    "train_df.head()"
   ]
  },
  {
   "cell_type": "code",
   "execution_count": 6,
   "metadata": {},
   "outputs": [],
   "source": [
    "X_train = train_df.drop(['Current Score'], axis=1)\n",
    "X_test = test_df.drop(['Current Score'], axis=1)\n",
    "y_train = train_df['Current Score']\n",
    "y_test = test_df['Current Score']"
   ]
  },
  {
   "cell_type": "code",
   "execution_count": 7,
   "metadata": {},
   "outputs": [
    {
     "data": {
      "text/plain": [
       "-0.04886244503632664"
      ]
     },
     "execution_count": 7,
     "metadata": {},
     "output_type": "execute_result"
    }
   ],
   "source": [
    "dummy = DummyRegressor()\n",
    "dummy.fit(X_train, y_train)\n",
    "dummy.score(X_test, y_test)"
   ]
  },
  {
   "cell_type": "code",
   "execution_count": 8,
   "metadata": {},
   "outputs": [
    {
     "data": {
      "text/html": [
       "<div>\n",
       "<style scoped>\n",
       "    .dataframe tbody tr th:only-of-type {\n",
       "        vertical-align: middle;\n",
       "    }\n",
       "\n",
       "    .dataframe tbody tr th {\n",
       "        vertical-align: top;\n",
       "    }\n",
       "\n",
       "    .dataframe thead th {\n",
       "        text-align: right;\n",
       "    }\n",
       "</style>\n",
       "<table border=\"1\" class=\"dataframe\">\n",
       "  <thead>\n",
       "    <tr style=\"text-align: right;\">\n",
       "      <th></th>\n",
       "      <th>prediction</th>\n",
       "    </tr>\n",
       "    <tr>\n",
       "      <th>Current Score</th>\n",
       "      <th></th>\n",
       "    </tr>\n",
       "  </thead>\n",
       "  <tbody>\n",
       "    <tr>\n",
       "      <th>65.7</th>\n",
       "      <td>81.626923</td>\n",
       "    </tr>\n",
       "    <tr>\n",
       "      <th>70.9</th>\n",
       "      <td>81.626923</td>\n",
       "    </tr>\n",
       "    <tr>\n",
       "      <th>84.4</th>\n",
       "      <td>81.626923</td>\n",
       "    </tr>\n",
       "    <tr>\n",
       "      <th>88.0</th>\n",
       "      <td>81.626923</td>\n",
       "    </tr>\n",
       "    <tr>\n",
       "      <th>78.3</th>\n",
       "      <td>81.626923</td>\n",
       "    </tr>\n",
       "    <tr>\n",
       "      <th>92.2</th>\n",
       "      <td>81.626923</td>\n",
       "    </tr>\n",
       "    <tr>\n",
       "      <th>78.5</th>\n",
       "      <td>81.626923</td>\n",
       "    </tr>\n",
       "  </tbody>\n",
       "</table>\n",
       "</div>"
      ],
      "text/plain": [
       "               prediction\n",
       "Current Score            \n",
       "65.7            81.626923\n",
       "70.9            81.626923\n",
       "84.4            81.626923\n",
       "88.0            81.626923\n",
       "78.3            81.626923\n",
       "92.2            81.626923\n",
       "78.5            81.626923"
      ]
     },
     "execution_count": 8,
     "metadata": {},
     "output_type": "execute_result"
    }
   ],
   "source": [
    "pd.DataFrame(dummy.predict(X_test), y_test, columns = ['prediction'])"
   ]
  },
  {
   "cell_type": "code",
   "execution_count": 27,
   "metadata": {},
   "outputs": [
    {
     "data": {
      "text/plain": [
       "0.3435526800484907"
      ]
     },
     "execution_count": 27,
     "metadata": {},
     "output_type": "execute_result"
    }
   ],
   "source": [
    "svr = SVR()\n",
    "scaler = StandardScaler()\n",
    "pipe = make_pipeline(scaler, svr)\n",
    "pipe.fit(X_train, y_train)\n",
    "pipe.score(X_test,y_test)"
   ]
  },
  {
   "cell_type": "code",
   "execution_count": 33,
   "metadata": {},
   "outputs": [
    {
     "data": {
      "text/html": [
       "<div>\n",
       "<style scoped>\n",
       "    .dataframe tbody tr th:only-of-type {\n",
       "        vertical-align: middle;\n",
       "    }\n",
       "\n",
       "    .dataframe tbody tr th {\n",
       "        vertical-align: top;\n",
       "    }\n",
       "\n",
       "    .dataframe thead th {\n",
       "        text-align: right;\n",
       "    }\n",
       "</style>\n",
       "<table border=\"1\" class=\"dataframe\">\n",
       "  <thead>\n",
       "    <tr style=\"text-align: right;\">\n",
       "      <th></th>\n",
       "      <th>prediction</th>\n",
       "      <th>target</th>\n",
       "    </tr>\n",
       "  </thead>\n",
       "  <tbody>\n",
       "    <tr>\n",
       "      <th>0</th>\n",
       "      <td>80.442970</td>\n",
       "      <td>65.7</td>\n",
       "    </tr>\n",
       "    <tr>\n",
       "      <th>1</th>\n",
       "      <td>79.547524</td>\n",
       "      <td>70.9</td>\n",
       "    </tr>\n",
       "    <tr>\n",
       "      <th>2</th>\n",
       "      <td>81.707317</td>\n",
       "      <td>84.4</td>\n",
       "    </tr>\n",
       "    <tr>\n",
       "      <th>3</th>\n",
       "      <td>83.249288</td>\n",
       "      <td>88.0</td>\n",
       "    </tr>\n",
       "    <tr>\n",
       "      <th>4</th>\n",
       "      <td>83.732376</td>\n",
       "      <td>78.3</td>\n",
       "    </tr>\n",
       "    <tr>\n",
       "      <th>5</th>\n",
       "      <td>82.895178</td>\n",
       "      <td>92.2</td>\n",
       "    </tr>\n",
       "    <tr>\n",
       "      <th>6</th>\n",
       "      <td>80.184186</td>\n",
       "      <td>78.5</td>\n",
       "    </tr>\n",
       "  </tbody>\n",
       "</table>\n",
       "</div>"
      ],
      "text/plain": [
       "   prediction  target\n",
       "0   80.442970    65.7\n",
       "1   79.547524    70.9\n",
       "2   81.707317    84.4\n",
       "3   83.249288    88.0\n",
       "4   83.732376    78.3\n",
       "5   82.895178    92.2\n",
       "6   80.184186    78.5"
      ]
     },
     "execution_count": 33,
     "metadata": {},
     "output_type": "execute_result"
    }
   ],
   "source": [
    "pd.DataFrame(np.array([pipe.predict(X_test),\n",
    "             y_test]).T, \n",
    "             columns = ['prediction', 'target'])"
   ]
  },
  {
   "cell_type": "code",
   "execution_count": 10,
   "metadata": {},
   "outputs": [],
   "source": [
    "pipe_svm = make_pipeline(StandardScaler(), SVR())"
   ]
  },
  {
   "cell_type": "code",
   "execution_count": 11,
   "metadata": {},
   "outputs": [
    {
     "data": {
      "image/png": "[encoded data removed]",
      "text/plain": [
       "<Figure size 640x480 with 1 Axes>"
      ]
     },
     "metadata": {},
     "output_type": "display_data"
    }
   ],
   "source": [
    "def display_heatmap(param_grid, pipe, X_train, y_train):\n",
    "    grid_search = GridSearchCV(\n",
    "        pipe, param_grid, cv=5, n_jobs=-1, return_train_score=True\n",
    "    )\n",
    "    grid_search.fit(X_train, y_train)\n",
    "    results = pd.DataFrame(grid_search.cv_results_)\n",
    "    scores = np.array(results.mean_test_score).reshape(6, 6)\n",
    "\n",
    "    # plot the mean cross-validation scores\n",
    "    mglearn.tools.heatmap(\n",
    "        scores,\n",
    "        xlabel=\"gamma\",\n",
    "        xticklabels=param_grid[\"svr__gamma\"],\n",
    "        ylabel=\"C\",\n",
    "        yticklabels=param_grid[\"svr__C\"],\n",
    "        cmap=\"viridis\",\n",
    "    );\n",
    "param_grid1 = {\n",
    "    \"svr__gamma\": 10.0**np.arange(-3, 3, 1), \n",
    "    \"svr__C\": 10.0**np.arange(-2, 4, 1)\n",
    "}\n",
    "display_heatmap(param_grid1, pipe_svm, X_train, y_train)"
   ]
  },
  {
   "cell_type": "code",
   "execution_count": 12,
   "metadata": {},
   "outputs": [],
   "source": [
    "grid_search = GridSearchCV(\n",
    "        pipe_svm, param_grid1, cv=5, n_jobs=-1, return_train_score=True\n",
    "    )\n",
    "\n",
    "grid_search.fit(X_train, y_train)\n",
    "res = pd.DataFrame(grid_search.predict(X_test), y_test, columns = ['prediction']).reset_index()\n"
   ]
  },
  {
   "cell_type": "code",
   "execution_count": 13,
   "metadata": {},
   "outputs": [
    {
     "data": {
      "text/plain": [
       "0.08691076806512466"
      ]
     },
     "execution_count": 13,
     "metadata": {},
     "output_type": "execute_result"
    }
   ],
   "source": [
    "grid_search.score(X_test, y_test)"
   ]
  },
  {
   "cell_type": "code",
   "execution_count": 14,
   "metadata": {},
   "outputs": [],
   "source": [
    "x = 10.0**np.arange(-50, 0, 1)\n",
    "res = []\n",
    "for i in (x):\n",
    "    ridge = Ridge(alpha=i)\n",
    "\n",
    "    pipe = make_pipeline(StandardScaler(), ridge)\n",
    "    pipe.fit(X_train, y_train)\n",
    "    res.append(pipe.score(X_train, y_train))"
   ]
  },
  {
   "cell_type": "code",
   "execution_count": 35,
   "metadata": {},
   "outputs": [
    {
     "data": {
      "text/plain": [
       "Text(0, 0.5, 'Score')"
      ]
     },
     "execution_count": 35,
     "metadata": {},
     "output_type": "execute_result"
    },
    {
     "data": {
      "image/png": "[encoded data removed]",
      "text/plain": [
       "<Figure size 640x480 with 1 Axes>"
      ]
     },
     "metadata": {},
     "output_type": "display_data"
    }
   ],
   "source": [
    "plt.plot(x, res)\n",
    "plt.xlabel('Alpha')\n",
    "plt.ylabel('Score')"
   ]
  },
  {
   "cell_type": "code",
   "execution_count": 37,
   "metadata": {},
   "outputs": [
    {
     "data": {
      "text/plain": [
       "0.7575583513308782"
      ]
     },
     "execution_count": 37,
     "metadata": {},
     "output_type": "execute_result"
    }
   ],
   "source": [
    "ridge = Ridge(alpha=1e-50)\n",
    "\n",
    "pipe = make_pipeline(StandardScaler(), ridge)\n",
    "pipe.fit(X_train, y_train)\n",
    "\n",
    "pd.DataFrame(np.array([pipe.predict(X_test),\n",
    "             y_test]).T, \n",
    "             columns = ['prediction', 'target'])\n",
    "\n",
    "pipe.score(X_train, y_train)"
   ]
  },
  {
   "cell_type": "code",
   "execution_count": 17,
   "metadata": {},
   "outputs": [
    {
     "data": {
      "text/html": [
       "<div>\n",
       "<style scoped>\n",
       "    .dataframe tbody tr th:only-of-type {\n",
       "        vertical-align: middle;\n",
       "    }\n",
       "\n",
       "    .dataframe tbody tr th {\n",
       "        vertical-align: top;\n",
       "    }\n",
       "\n",
       "    .dataframe thead th {\n",
       "        text-align: right;\n",
       "    }\n",
       "</style>\n",
       "<table border=\"1\" class=\"dataframe\">\n",
       "  <thead>\n",
       "    <tr style=\"text-align: right;\">\n",
       "      <th></th>\n",
       "      <th>coefficient</th>\n",
       "      <th>importance</th>\n",
       "    </tr>\n",
       "  </thead>\n",
       "  <tbody>\n",
       "    <tr>\n",
       "      <th>0</th>\n",
       "      <td>Participation &amp; engagement Current Score</td>\n",
       "      <td>4.164112</td>\n",
       "    </tr>\n",
       "    <tr>\n",
       "      <th>1</th>\n",
       "      <td>count_of_likes</td>\n",
       "      <td>1.325596</td>\n",
       "    </tr>\n",
       "    <tr>\n",
       "      <th>2</th>\n",
       "      <td>total_activity_time</td>\n",
       "      <td>0.443990</td>\n",
       "    </tr>\n",
       "    <tr>\n",
       "      <th>3</th>\n",
       "      <td>discussion_topic_message_length</td>\n",
       "      <td>-0.700075</td>\n",
       "    </tr>\n",
       "    <tr>\n",
       "      <th>4</th>\n",
       "      <td>post_message_length</td>\n",
       "      <td>-2.071634</td>\n",
       "    </tr>\n",
       "    <tr>\n",
       "      <th>5</th>\n",
       "      <td>answer_count</td>\n",
       "      <td>1.936124</td>\n",
       "    </tr>\n",
       "  </tbody>\n",
       "</table>\n",
       "</div>"
      ],
      "text/plain": [
       "                                coefficient  importance\n",
       "0  Participation & engagement Current Score    4.164112\n",
       "1                            count_of_likes    1.325596\n",
       "2                       total_activity_time    0.443990\n",
       "3           discussion_topic_message_length   -0.700075\n",
       "4                       post_message_length   -2.071634\n",
       "5                              answer_count    1.936124"
      ]
     },
     "execution_count": 17,
     "metadata": {},
     "output_type": "execute_result"
    }
   ],
   "source": [
    "coeffs = pipe['ridge'].coef_\n",
    "feature_names = X_train.columns\n",
    "viz_df = pd.DataFrame(coeffs,feature_names).reset_index()\n",
    "viz_df.columns = ['coefficient', 'importance']\n",
    "viz_df"
   ]
  },
  {
   "cell_type": "code",
   "execution_count": 18,
   "metadata": {},
   "outputs": [
    {
     "data": {
      "text/html": [
       "\n",
       "<div id=\"altair-viz-6216dfb641544dff9a4d7b4b51b199cd\"></div>\n",
       "<script type=\"text/javascript\">\n",
       "  var VEGA_DEBUG = (typeof VEGA_DEBUG == \"undefined\") ? {} : VEGA_DEBUG;\n",
       "  (function(spec, embedOpt){\n",
       "    let outputDiv = document.currentScript.previousElementSibling;\n",
       "    if (outputDiv.id !== \"altair-viz-6216dfb641544dff9a4d7b4b51b199cd\") {\n",
       "      outputDiv = document.getElementById(\"altair-viz-6216dfb641544dff9a4d7b4b51b199cd\");\n",
       "    }\n",
       "    const paths = {\n",
       "      \"vega\": \"https://cdn.jsdelivr.net/npm//vega@5?noext\",\n",
       "      \"vega-lib\": \"https://cdn.jsdelivr.net/npm//vega-lib?noext\",\n",
       "      \"vega-lite\": \"https://cdn.jsdelivr.net/npm//vega-lite@4.17.0?noext\",\n",
       "      \"vega-embed\": \"https://cdn.jsdelivr.net/npm//vega-embed@6?noext\",\n",
       "    };\n",
       "\n",
       "    function maybeLoadScript(lib, version) {\n",
       "      var key = `${lib.replace(\"-\", \"\")}_version`;\n",
       "      return (VEGA_DEBUG[key] == version) ?\n",
       "        Promise.resolve(paths[lib]) :\n",
       "        new Promise(function(resolve, reject) {\n",
       "          var s = document.createElement('script');\n",
       "          document.getElementsByTagName(\"head\")[0].appendChild(s);\n",
       "          s.async = true;\n",
       "          s.onload = () => {\n",
       "            VEGA_DEBUG[key] = version;\n",
       "            return resolve(paths[lib]);\n",
       "          };\n",
       "          s.onerror = () => reject(`Error loading script: ${paths[lib]}`);\n",
       "          s.src = paths[lib];\n",
       "        });\n",
       "    }\n",
       "\n",
       "    function showError(err) {\n",
       "      outputDiv.innerHTML = `<div class=\"error\" style=\"color:red;\">${err}</div>`;\n",
       "      throw err;\n",
       "    }\n",
       "\n",
       "    function displayChart(vegaEmbed) {\n",
       "      vegaEmbed(outputDiv, spec, embedOpt)\n",
       "        .catch(err => showError(`Javascript Error: ${err.message}<br>This usually means there's a typo in your chart specification. See the javascript console for the full traceback.`));\n",
       "    }\n",
       "\n",
       "    if(typeof define === \"function\" && define.amd) {\n",
       "      requirejs.config({paths});\n",
       "      require([\"vega-embed\"], displayChart, err => showError(`Error loading script: ${err.message}`));\n",
       "    } else {\n",
       "      maybeLoadScript(\"vega\", \"5\")\n",
       "        .then(() => maybeLoadScript(\"vega-lite\", \"4.17.0\"))\n",
       "        .then(() => maybeLoadScript(\"vega-embed\", \"6\"))\n",
       "        .catch(showError)\n",
       "        .then(() => displayChart(vegaEmbed));\n",
       "    }\n",
       "  })({\"config\": {\"view\": {\"continuousWidth\": 400, \"continuousHeight\": 300}}, \"data\": {\"name\": \"data-dff82a1e58cd3d81ccef229f6b4245e9\"}, \"mark\": \"bar\", \"encoding\": {\"x\": {\"field\": \"importance\", \"type\": \"quantitative\"}, \"y\": {\"field\": \"coefficient\", \"impute\": {\"value\": 0}, \"type\": \"nominal\"}}, \"transform\": [{\"calculate\": \"datum.y < 0\", \"as\": \"negative\"}], \"$schema\": \"https://vega.github.io/schema/vega-lite/v4.17.0.json\", \"datasets\": {\"data-dff82a1e58cd3d81ccef229f6b4245e9\": [{\"coefficient\": \"Participation & engagement Current Score\", \"importance\": 4.164112393805196}, {\"coefficient\": \"count_of_likes\", \"importance\": 1.3255956456178632}, {\"coefficient\": \"total_activity_time\", \"importance\": 0.4439899722277463}, {\"coefficient\": \"discussion_topic_message_length\", \"importance\": -0.7000750026086953}, {\"coefficient\": \"post_message_length\", \"importance\": -2.0716339689876757}, {\"coefficient\": \"answer_count\", \"importance\": 1.9361241049633893}]}}, {\"mode\": \"vega-lite\"});\n",
       "</script>"
      ],
      "text/plain": [
       "alt.Chart(...)"
      ]
     },
     "execution_count": 18,
     "metadata": {},
     "output_type": "execute_result"
    }
   ],
   "source": [
    "alt.Chart(viz_df).transform_calculate(\n",
    "    negative='datum.y < 0'\n",
    ").mark_bar().encode(\n",
    "    x='importance',\n",
    "    y=alt.Y('coefficient', impute={'value': 0}),\n",
    ")"
   ]
  },
  {
   "cell_type": "code",
   "execution_count": 19,
   "metadata": {},
   "outputs": [],
   "source": [
    "splom = train_df[['Participation & engagement Current Score', 'Current Score','answer_count']]"
   ]
  },
  {
   "cell_type": "code",
   "execution_count": 39,
   "metadata": {},
   "outputs": [
    {
     "data": {
      "text/html": [
       "\n",
       "<div id=\"altair-viz-4fb5451ed34841fea8df742b033b2855\"></div>\n",
       "<script type=\"text/javascript\">\n",
       "  var VEGA_DEBUG = (typeof VEGA_DEBUG == \"undefined\") ? {} : VEGA_DEBUG;\n",
       "  (function(spec, embedOpt){\n",
       "    let outputDiv = document.currentScript.previousElementSibling;\n",
       "    if (outputDiv.id !== \"altair-viz-4fb5451ed34841fea8df742b033b2855\") {\n",
       "      outputDiv = document.getElementById(\"altair-viz-4fb5451ed34841fea8df742b033b2855\");\n",
       "    }\n",
       "    const paths = {\n",
       "      \"vega\": \"https://cdn.jsdelivr.net/npm//vega@5?noext\",\n",
       "      \"vega-lib\": \"https://cdn.jsdelivr.net/npm//vega-lib?noext\",\n",
       "      \"vega-lite\": \"https://cdn.jsdelivr.net/npm//vega-lite@4.17.0?noext\",\n",
       "      \"vega-embed\": \"https://cdn.jsdelivr.net/npm//vega-embed@6?noext\",\n",
       "    };\n",
       "\n",
       "    function maybeLoadScript(lib, version) {\n",
       "      var key = `${lib.replace(\"-\", \"\")}_version`;\n",
       "      return (VEGA_DEBUG[key] == version) ?\n",
       "        Promise.resolve(paths[lib]) :\n",
       "        new Promise(function(resolve, reject) {\n",
       "          var s = document.createElement('script');\n",
       "          document.getElementsByTagName(\"head\")[0].appendChild(s);\n",
       "          s.async = true;\n",
       "          s.onload = () => {\n",
       "            VEGA_DEBUG[key] = version;\n",
       "            return resolve(paths[lib]);\n",
       "          };\n",
       "          s.onerror = () => reject(`Error loading script: ${paths[lib]}`);\n",
       "          s.src = paths[lib];\n",
       "        });\n",
       "    }\n",
       "\n",
       "    function showError(err) {\n",
       "      outputDiv.innerHTML = `<div class=\"error\" style=\"color:red;\">${err}</div>`;\n",
       "      throw err;\n",
       "    }\n",
       "\n",
       "    function displayChart(vegaEmbed) {\n",
       "      vegaEmbed(outputDiv, spec, embedOpt)\n",
       "        .catch(err => showError(`Javascript Error: ${err.message}<br>This usually means there's a typo in your chart specification. See the javascript console for the full traceback.`));\n",
       "    }\n",
       "\n",
       "    if(typeof define === \"function\" && define.amd) {\n",
       "      requirejs.config({paths});\n",
       "      require([\"vega-embed\"], displayChart, err => showError(`Error loading script: ${err.message}`));\n",
       "    } else {\n",
       "      maybeLoadScript(\"vega\", \"5\")\n",
       "        .then(() => maybeLoadScript(\"vega-lite\", \"4.17.0\"))\n",
       "        .then(() => maybeLoadScript(\"vega-embed\", \"6\"))\n",
       "        .catch(showError)\n",
       "        .then(() => displayChart(vegaEmbed));\n",
       "    }\n",
       "  })({\"config\": {\"view\": {\"continuousWidth\": 400, \"continuousHeight\": 300}}, \"repeat\": {\"column\": [\"Participation & engagement Current Score\", \"Current Score\", \"answer_count\"], \"row\": [\"Participation & engagement Current Score\", \"Current Score\", \"answer_count\"]}, \"spec\": {\"data\": {\"name\": \"data-21a20c1ba4d19bbf2e9fab14f41fc736\"}, \"mark\": {\"type\": \"point\", \"opacity\": 0.6, \"size\": 20}, \"encoding\": {\"x\": {\"field\": {\"repeat\": \"row\"}, \"scale\": {\"zero\": false}, \"type\": \"quantitative\"}, \"y\": {\"field\": {\"repeat\": \"column\"}, \"scale\": {\"zero\": false}, \"type\": \"quantitative\"}}, \"height\": 200, \"width\": 200}, \"$schema\": \"https://vega.github.io/schema/vega-lite/v4.17.0.json\", \"datasets\": {\"data-21a20c1ba4d19bbf2e9fab14f41fc736\": [{\"Participation & engagement Current Score\": 100.0, \"Current Score\": 82.0, \"answer_count\": 51}, {\"Participation & engagement Current Score\": 40.0, \"Current Score\": 72.1, \"answer_count\": 9}, {\"Participation & engagement Current Score\": 55.0, \"Current Score\": 69.7, \"answer_count\": 22}, {\"Participation & engagement Current Score\": 60.0, \"Current Score\": 84.6, \"answer_count\": 31}, {\"Participation & engagement Current Score\": 90.0, \"Current Score\": 87.3, \"answer_count\": 39}, {\"Participation & engagement Current Score\": 80.0, \"Current Score\": 85.5, \"answer_count\": 41}, {\"Participation & engagement Current Score\": 80.0, \"Current Score\": 81.2, \"answer_count\": 20}, {\"Participation & engagement Current Score\": 70.0, \"Current Score\": 82.3, \"answer_count\": 22}, {\"Participation & engagement Current Score\": 90.0, \"Current Score\": 89.0, \"answer_count\": 50}, {\"Participation & engagement Current Score\": 50.0, \"Current Score\": 73.0, \"answer_count\": 18}, {\"Participation & engagement Current Score\": 100.0, \"Current Score\": 89.2, \"answer_count\": 56}, {\"Participation & engagement Current Score\": 90.0, \"Current Score\": 81.3, \"answer_count\": 28}, {\"Participation & engagement Current Score\": 55.0, \"Current Score\": 69.7, \"answer_count\": 30}, {\"Participation & engagement Current Score\": 85.0, \"Current Score\": 86.4, \"answer_count\": 25}, {\"Participation & engagement Current Score\": 100.0, \"Current Score\": 87.3, \"answer_count\": 88}, {\"Participation & engagement Current Score\": 90.0, \"Current Score\": 80.9, \"answer_count\": 14}, {\"Participation & engagement Current Score\": 85.0, \"Current Score\": 78.4, \"answer_count\": 57}, {\"Participation & engagement Current Score\": 70.0, \"Current Score\": 77.9, \"answer_count\": 26}, {\"Participation & engagement Current Score\": 80.0, \"Current Score\": 79.1, \"answer_count\": 22}, {\"Participation & engagement Current Score\": 90.0, \"Current Score\": 85.2, \"answer_count\": 53}, {\"Participation & engagement Current Score\": 80.0, \"Current Score\": 85.7, \"answer_count\": 41}, {\"Participation & engagement Current Score\": 100.0, \"Current Score\": 87.5, \"answer_count\": 33}, {\"Participation & engagement Current Score\": 60.0, \"Current Score\": 76.2, \"answer_count\": 16}, {\"Participation & engagement Current Score\": 85.0, \"Current Score\": 83.6, \"answer_count\": 29}, {\"Participation & engagement Current Score\": 100.0, \"Current Score\": 82.90000000000002, \"answer_count\": 111}, {\"Participation & engagement Current Score\": 90.0, \"Current Score\": 84.3, \"answer_count\": 32}]}}, {\"mode\": \"vega-lite\"});\n",
       "</script>"
      ],
      "text/plain": [
       "alt.RepeatChart(...)"
      ]
     },
     "execution_count": 39,
     "metadata": {},
     "output_type": "execute_result"
    }
   ],
   "source": [
    "alt.Chart(splom).mark_point(opacity=0.6, size=20).encode(\n",
    "     alt.X(alt.repeat('row'), type='quantitative', scale=alt.Scale(zero=False)),\n",
    "     alt.Y(alt.repeat('column'), type='quantitative', scale=alt.Scale(zero=False))\n",
    ").properties(\n",
    "    width=200,\n",
    "    height=200\n",
    ").repeat(\n",
    "    column=['Participation & engagement Current Score','Current Score', 'answer_count'],\n",
    "    row=['Participation & engagement Current Score', 'Current Score','answer_count']\n",
    ")"
   ]
  },
  {
   "cell_type": "code",
   "execution_count": null,
   "metadata": {},
   "outputs": [],
   "source": []
  }
 ],
 "metadata": {
  "language_info": {
   "name": "python"
  },
  "orig_nbformat": 4
 },
 "nbformat": 4,
 "nbformat_minor": 2
}
